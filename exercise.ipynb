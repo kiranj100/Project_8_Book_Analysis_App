{
 "cells": [
  {
   "cell_type": "markdown",
   "id": "bd41a759-b679-41af-8e0e-582a2e446008",
   "metadata": {},
   "source": [
    "# Load the Book"
   ]
  },
  {
   "cell_type": "code",
   "execution_count": 1,
   "id": "ec65339b-f75d-4007-96bd-b4867a511529",
   "metadata": {},
   "outputs": [],
   "source": [
    "with open(\"miracle_in_the_andes.txt\",\"r\") as file:\n",
    "    book = file.read()"
   ]
  },
  {
   "cell_type": "markdown",
   "id": "1da86a45-4dc5-40f7-bb72-2561266e62c8",
   "metadata": {},
   "source": [
    "# Extract the Paragraphs where \"love\" was used"
   ]
  },
  {
   "cell_type": "code",
   "execution_count": 2,
   "id": "28a5edb7-518f-48f8-bddc-477ef92c0a50",
   "metadata": {},
   "outputs": [],
   "source": [
    "import re"
   ]
  },
  {
   "cell_type": "code",
   "execution_count": 28,
   "id": "57f46c2e-9a33-4df5-a0a1-0a2c9683e6d5",
   "metadata": {},
   "outputs": [
    {
     "data": {
      "text/plain": [
       "['To me, this is the essence of rugby. No other sport gives you such an intense sense of selflessness and unified purpose. I believe this is why rugby players all over the world feel such a passion for the game and such a feeling of brotherhood. As a young man, of course, I could not put these things into words, but I knew, and my teammates knew, that there was something special about the game, and under the guidance of the Christian Brothers we developed a passionate love for the sport that shaped our friendships and our lives. For eight years we played our hearts out for the Christian Brothers—a brotherhood of young boys with Latin names, playing a game with deep Anglo roots under Uruguay’s sunny skies, and proudly wearing the bright green shamrock on our uniforms. The game became so much a part of our lives, in fact, that when we graduated from Stella Maris at the age of sixteen, many of us could not bear the thought that our playing days were over. Our salvation came in the form of the Old Christians Club, a private rugby team formed in 1965 by previous alumni of the Stella Maris rugby program to give Stella Maris ruggers a chance to continue playing the game after our school years ended.',\n",
       " 'There were others—Alexis Hounie, Gastón Costemalle, Daniel Shaw—all of them great players and all of them my friends. But my oldest friend was Guido Magri. He and I had met on my first day at the Stella Maris School—I was eight years old and Guido was one year older—and we had been inseparable ever since. Guido and I grew up together, playing soccer and sharing a love of motorcycles, cars, and auto racing. When I was fifteen we both had mopeds that we had modified in silly ways—removing the mufflers, turn signals, and fenders—and we would ride them to Las Delicias, a famous ice cream parlor in our neighborhood, where we would drool over the girls from the nearby School Sagrado Corazón, hoping to impress them with our souped-up scooters. Guido was a dependable friend, with a good sense of humor and an easy laugh. He was also an outstanding scrum half, as quick and smart as a fox, with good hands and great courage. Under the guidance of the Christian Brothers, both of us grew to love the game of rugby with a consuming passion. As seasons passed we worked hard to improve our skills, and by the time I was fifteen we had each earned a spot on the Stella Maris First XV, the team’s starting lineup. After graduation, both of us went on to join the Old Christians and spent several happy seasons pursuing the high-octane social life of young rugby players. That rowdiness came to an abrupt end for Guido in 1969, when he met and fell in love with the beautiful daughter of a Chilean diplomat. She was now his fiancée, and he was happy to behave himself for her sake.']"
      ]
     },
     "execution_count": 28,
     "metadata": {},
     "output_type": "execute_result"
    }
   ],
   "source": [
    "pattern = re.compile(\"[^\\n]+love[^\\n]+.\")\n",
    "find_word_sentence = re.findall(pattern,book)\n",
    "find_word_sentence[:2]"
   ]
  },
  {
   "cell_type": "markdown",
   "id": "da0b3e68-899a-4439-8c8d-4d99eb086ba5",
   "metadata": {},
   "source": [
    "# Extract the Chapter title "
   ]
  },
  {
   "cell_type": "markdown",
   "id": "7cd05ace-a26c-462d-8dc6-62197633cef4",
   "metadata": {},
   "source": [
    "### Method 1"
   ]
  },
  {
   "cell_type": "code",
   "execution_count": null,
   "id": "c2563c0a-5890-49d7-b74d-7383e1f6f8ad",
   "metadata": {},
   "outputs": [],
   "source": [
    "import re\n",
    "pattern = re.compile(\"([a-zA-Z ]+)\\n\\n\")\n",
    "finding_chapter = re.findall(pattern,book)\n",
    "finding_chapter"
   ]
  },
  {
   "cell_type": "markdown",
   "id": "67292888-03f6-4862-a0e9-4e25fcdb120d",
   "metadata": {
    "jp-MarkdownHeadingCollapsed": true
   },
   "source": [
    "### Method 2"
   ]
  },
  {
   "cell_type": "code",
   "execution_count": 38,
   "id": "68df8a3b-2e76-4460-bd11-e82cf4af8683",
   "metadata": {},
   "outputs": [
    {
     "data": {
      "text/plain": [
       "['Before',\n",
       " 'Precious',\n",
       " 'Promise',\n",
       " 'More',\n",
       " 'Abandoned',\n",
       " 'Tomb',\n",
       " 'East',\n",
       " 'Death',\n",
       " 'Man',\n",
       " 'After']"
      ]
     },
     "execution_count": 38,
     "metadata": {},
     "output_type": "execute_result"
    }
   ],
   "source": [
    "import re\n",
    "pattern = re.compile(\"[a-zA-Z]+\\n\\n\")\n",
    "finding_patter = re.findall(pattern,book)\n",
    "finding_patter = [item.strip(\"\\n\\n\") for item in finding_patter]\n",
    "finding_patter"
   ]
  },
  {
   "cell_type": "markdown",
   "id": "bb6689d5-0fbb-4895-9e00-370e5f15c9b6",
   "metadata": {},
   "source": [
    "# Function that find occurance of any word"
   ]
  },
  {
   "cell_type": "code",
   "execution_count": 43,
   "id": "040425ad-45aa-4f64-9fee-4ef8c2733e34",
   "metadata": {},
   "outputs": [],
   "source": [
    "def find(w):\n",
    "    pattern = re.compile(\"[a-zA-Z]+\")\n",
    "    finding_pattern = re.findall(pattern,book.lower())\n",
    "    d = {}\n",
    "    for word in finding_pattern:\n",
    "        if word in d.keys():\n",
    "            d[word] = d[word] + 1\n",
    "        else:\n",
    "            d[word] = 1\n",
    "    try:\n",
    "        return d[w]\n",
    "    except:\n",
    "        return f'The book does not contain the word \"{w}\"'"
   ]
  },
  {
   "cell_type": "code",
   "execution_count": 44,
   "id": "e1881bbe-9cd9-4a7b-b4b5-5b7c8c614d09",
   "metadata": {},
   "outputs": [
    {
     "data": {
      "text/plain": [
       "83"
      ]
     },
     "execution_count": 44,
     "metadata": {},
     "output_type": "execute_result"
    }
   ],
   "source": [
    "find(\"love\")"
   ]
  },
  {
   "cell_type": "code",
   "execution_count": 45,
   "id": "a785a65f-7e7f-4c3b-8393-f17e24d27a98",
   "metadata": {},
   "outputs": [
    {
     "data": {
      "text/plain": [
       "'The book does not contain the word \"hate\"'"
      ]
     },
     "execution_count": 45,
     "metadata": {},
     "output_type": "execute_result"
    }
   ],
   "source": [
    "find(\"hate\")"
   ]
  }
 ],
 "metadata": {
  "kernelspec": {
   "display_name": "Python 3 (ipykernel)",
   "language": "python",
   "name": "python3"
  },
  "language_info": {
   "codemirror_mode": {
    "name": "ipython",
    "version": 3
   },
   "file_extension": ".py",
   "mimetype": "text/x-python",
   "name": "python",
   "nbconvert_exporter": "python",
   "pygments_lexer": "ipython3",
   "version": "3.8.10"
  }
 },
 "nbformat": 4,
 "nbformat_minor": 5
}
